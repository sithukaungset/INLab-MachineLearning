{
 "cells": [
  {
   "cell_type": "code",
   "execution_count": null,
   "metadata": {},
   "outputs": [
    {
     "ename": "error",
     "evalue": "OpenCV(4.5.3) :-1: error: (-5:Bad argument) in function 'warpPerspective'\n> Overload resolution failed:\n>  - Can't parse 'dsize'. Sequence item with index 0 has a wrong type\n>  - Can't parse 'dsize'. Sequence item with index 0 has a wrong type\n",
     "output_type": "error",
     "traceback": [
      "\u001b[0;31m---------------------------------------------------------------------------\u001b[0m",
      "\u001b[0;31merror\u001b[0m                                     Traceback (most recent call last)",
      "\u001b[0;32m<ipython-input-1-6113968de7f0>\u001b[0m in \u001b[0;36monMouse\u001b[0;34m(event, x, y, flags, param)\u001b[0m\n\u001b[1;32m     47\u001b[0m             \u001b[0mmtrx\u001b[0m \u001b[0;34m=\u001b[0m \u001b[0mcv2\u001b[0m\u001b[0;34m.\u001b[0m\u001b[0mgetPerspectiveTransform\u001b[0m\u001b[0;34m(\u001b[0m\u001b[0mpts1\u001b[0m\u001b[0;34m,\u001b[0m \u001b[0mpts2\u001b[0m\u001b[0;34m)\u001b[0m\u001b[0;34m\u001b[0m\u001b[0;34m\u001b[0m\u001b[0m\n\u001b[1;32m     48\u001b[0m             \u001b[0;31m# 원근 변환 적용\u001b[0m\u001b[0;34m\u001b[0m\u001b[0;34m\u001b[0m\u001b[0;34m\u001b[0m\u001b[0m\n\u001b[0;32m---> 49\u001b[0;31m             \u001b[0mresult\u001b[0m \u001b[0;34m=\u001b[0m \u001b[0mcv2\u001b[0m\u001b[0;34m.\u001b[0m\u001b[0mwarpPerspective\u001b[0m\u001b[0;34m(\u001b[0m\u001b[0mimg\u001b[0m\u001b[0;34m,\u001b[0m \u001b[0mmtrx\u001b[0m\u001b[0;34m,\u001b[0m \u001b[0;34m(\u001b[0m\u001b[0mwidth\u001b[0m\u001b[0;34m,\u001b[0m \u001b[0mheight\u001b[0m\u001b[0;34m)\u001b[0m\u001b[0;34m)\u001b[0m\u001b[0;34m\u001b[0m\u001b[0;34m\u001b[0m\u001b[0m\n\u001b[0m\u001b[1;32m     50\u001b[0m             \u001b[0mcv2\u001b[0m\u001b[0;34m.\u001b[0m\u001b[0mimshow\u001b[0m\u001b[0;34m(\u001b[0m\u001b[0;34m'scanned'\u001b[0m\u001b[0;34m,\u001b[0m \u001b[0mresult\u001b[0m\u001b[0;34m)\u001b[0m\u001b[0;34m\u001b[0m\u001b[0;34m\u001b[0m\u001b[0m\n\u001b[1;32m     51\u001b[0m \u001b[0mcv2\u001b[0m\u001b[0;34m.\u001b[0m\u001b[0mimshow\u001b[0m\u001b[0;34m(\u001b[0m\u001b[0mwin_name\u001b[0m\u001b[0;34m,\u001b[0m \u001b[0mimg\u001b[0m\u001b[0;34m)\u001b[0m\u001b[0;34m\u001b[0m\u001b[0;34m\u001b[0m\u001b[0m\n",
      "\u001b[0;31merror\u001b[0m: OpenCV(4.5.3) :-1: error: (-5:Bad argument) in function 'warpPerspective'\n> Overload resolution failed:\n>  - Can't parse 'dsize'. Sequence item with index 0 has a wrong type\n>  - Can't parse 'dsize'. Sequence item with index 0 has a wrong type\n"
     ]
    }
   ],
   "source": [
    "# 마우스와 원근 변환으로 문서 스캔 효과 내기 (perspective_scan.py)\n",
    "\n",
    "import cv2\n",
    "import numpy as np\n",
    "\n",
    "win_name = \"scanning\"\n",
    "img = cv2.imread(\"paper.jpg\")\n",
    "rows, cols = img.shape[:2]\n",
    "draw = img.copy()\n",
    "pts_cnt = 0\n",
    "pts = np.zeros((4,2), dtype=np.float32)\n",
    "\n",
    "def onMouse(event, x, y, flags, param):  #마우스 이벤트 콜백 함수 구현 ---① \n",
    "    global  pts_cnt                     # 마우스로 찍은 좌표의 갯수 저장\n",
    "    if event == cv2.EVENT_LBUTTONDOWN:  \n",
    "        cv2.circle(draw, (x,y), 10, (0,255,0), -1) # 좌표에 초록색 동그라미 표시\n",
    "        cv2.imshow(win_name, draw)\n",
    "\n",
    "        pts[pts_cnt] = [x,y]            # 마우스 좌표 저장\n",
    "        pts_cnt+=1\n",
    "        if pts_cnt == 4:                       # 좌표가 4개 수집됨 \n",
    "            # 좌표 4개 중 상하좌우 찾기 ---② \n",
    "            sm = pts.sum(axis=1)                 # 4쌍의 좌표 각각 x+y 계산\n",
    "            diff = np.diff(pts, axis = 1)       # 4쌍의 좌표 각각 x-y 계산\n",
    "\n",
    "            topLeft = pts[np.argmin(sm)]         # x+y가 가장 값이 좌상단 좌표\n",
    "            bottomRight = pts[np.argmax(sm)]     # x+y가 가장 큰 값이 우하단 좌표\n",
    "            topRight = pts[np.argmin(diff)]     # x-y가 가장 작은 것이 우상단 좌표\n",
    "            bottomLeft = pts[np.argmax(diff)]   # x-y가 가장 큰 값이 좌하단 좌표\n",
    "\n",
    "            # 변환 전 4개 좌표 \n",
    "            pts1 = np.float32([topLeft, topRight, bottomRight , bottomLeft])\n",
    "\n",
    "            # 변환 후 영상에 사용할 서류의 폭과 높이 계산 ---③ \n",
    "            w1 = abs(bottomRight[0] - bottomLeft[0])    # 상단 좌우 좌표간의 거리\n",
    "            w2 = abs(topRight[0] - topLeft[0])          # 하당 좌우 좌표간의 거리\n",
    "            h1 = abs(topRight[1] - bottomRight[1])      # 우측 상하 좌표간의 거리\n",
    "            h2 = abs(topLeft[1] - bottomLeft[1])        # 좌측 상하 좌표간의 거리\n",
    "            width = max([w1, w2])                       # 두 좌우 거리간의 최대값이 서류의 폭\n",
    "            height = max([h1, h2])                      # 두 상하 거리간의 최대값이 서류의 높이\n",
    "            \n",
    "            # 변환 후 4개 좌표\n",
    "            pts2 = np.float32([[0,0], [width-1,0], \n",
    "                                [width-1,height-1], [0,height-1]])\n",
    "\n",
    "            # 변환 행렬 계산 \n",
    "            mtrx = cv2.getPerspectiveTransform(pts1, pts2)\n",
    "            # 원근 변환 적용\n",
    "            result = cv2.warpPerspective(img, mtrx, (width, height))\n",
    "            cv2.imshow('scanned', result)\n",
    "cv2.imshow(win_name, img)\n",
    "cv2.setMouseCallback(win_name, onMouse)    # 마우스 콜백 함수를 GUI 윈도우에 등록 ---④\n",
    "cv2.waitKey(0)\n",
    "cv2.destroyAllWindows()"
   ]
  }
 ],
 "metadata": {
  "kernelspec": {
   "display_name": "Python 3",
   "language": "python",
   "name": "python3"
  },
  "language_info": {
   "codemirror_mode": {
    "name": "ipython",
    "version": 3
   },
   "file_extension": ".py",
   "mimetype": "text/x-python",
   "name": "python",
   "nbconvert_exporter": "python",
   "pygments_lexer": "ipython3",
   "version": "3.8.10"
  }
 },
 "nbformat": 4,
 "nbformat_minor": 4
}
