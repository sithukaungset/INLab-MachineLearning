{
 "cells": [
  {
   "cell_type": "code",
   "execution_count": 3,
   "metadata": {},
   "outputs": [
    {
     "name": "stdout",
     "output_type": "stream",
     "text": [
      "man\n",
      "Standardd error of estimate =  6.819432500590656\n",
      "correlation coefficient =  0.7202893268977785\n"
     ]
    },
    {
     "name": "stderr",
     "output_type": "stream",
     "text": [
      "/home/inlab/.local/lib/python3.8/site-packages/matplotlib/backends/backend_agg.py:238: RuntimeWarning: Glyph 45224 missing from current font.\n",
      "  font.set_text(s, 0.0, flags=flags)\n",
      "/home/inlab/.local/lib/python3.8/site-packages/matplotlib/backends/backend_agg.py:238: RuntimeWarning: Glyph 51088 missing from current font.\n",
      "  font.set_text(s, 0.0, flags=flags)\n",
      "/home/inlab/.local/lib/python3.8/site-packages/matplotlib/backends/backend_agg.py:201: RuntimeWarning: Glyph 45224 missing from current font.\n",
      "  font.set_text(s, 0, flags=flags)\n",
      "/home/inlab/.local/lib/python3.8/site-packages/matplotlib/backends/backend_agg.py:201: RuntimeWarning: Glyph 51088 missing from current font.\n",
      "  font.set_text(s, 0, flags=flags)\n"
     ]
    },
    {
     "data": {
      "image/png": "[encoded data removed]",
      "text/plain": [
       "<Figure size 432x288 with 1 Axes>"
      ]
     },
     "metadata": {
      "needs_background": "light"
     },
     "output_type": "display_data"
    }
   ],
   "source": [
    "import numpy as np\n",
    "import matplotlib.pyplot as plt\n",
    "import pandas as pd\n",
    "\n",
    "#여자\n",
    "excel_x1 = pd.read_csv('/home/inlab/data.csv')\n",
    "excel_y1 = pd.read_csv('/home/inlab/data.csv')\n",
    "\n",
    "excel_x1 = excel_x1['height']\n",
    "excel_y1 = excel_y1['feet']\n",
    "\n",
    "x = excel_x1.values.tolist()\n",
    "y = excel_y1.values.tolist()\n",
    "\n",
    "n = len(x)\n",
    "\n",
    "x = np.array(x)\n",
    "y = np.array(y)\n",
    "\n",
    "s_xiyi = 0\n",
    "s_xi = 0\n",
    "s_yi = 0\n",
    "s_xi2 = 0\n",
    "s_yi2 = 0\n",
    "\n",
    "for i in range(n):\n",
    "    s_xiyi = s_xiyi+ x[i]*y[i]\n",
    "    s_xi = s_xi + x[i]\n",
    "    s_yi = s_yi + y[i]\n",
    "    s_xi2 = s_xi2 + (x[i] ** 2)\n",
    "    s_yi2 = s_yi2 + (y[i] ** 2)\n",
    "   \n",
    "   \n",
    "\n",
    "a1 = ((n * s_xiyi) - (s_xi * s_yi)) / ((n * s_xi2) - ((s_xi)**2))\n",
    "a0 = y.mean() - (a1 * x.mean())\n",
    "\n",
    "x_s = np.arange(0,100,0.1)\n",
    "new_y = a0 + (a1 * x_s)\n",
    "\n",
    "#남자\n",
    "print('man')\n",
    "Sr = 0\n",
    "for i in range(n):\n",
    "    Sr = Sr + ((y[i] -a0 -(a1 * x[i])) **2)\n",
    "\n",
    "S_yx = np.sqrt(Sr/(n-2))\n",
    "print('Standardd error of estimate = ', S_yx)\n",
    "\n",
    "#Correlation coefficient\n",
    "\n",
    "r = ((n * (s_xiyi)) - ((s_xi) * (s_yi))) / (np.sqrt((n * s_xi2) - (s_xi ** 2)) * np.sqrt((n * s_yi2) - (s_yi ** 2)))\n",
    "\n",
    "print('correlation coefficient = ', r)\n",
    "\n",
    "plt.subplot(1,2,1)\n",
    "plt.plot(x,y, 'bo')\n",
    "plt.plot(x_s,new_y, 'r-')\n",
    "plt.xlim(0,30)\n",
    "plt.ylim(0,40)\n",
    "plt.title('남자')\n",
    "plt.show()"
   ]
  },
  {
   "cell_type": "code",
   "execution_count": 4,
   "metadata": {},
   "outputs": [
    {
     "name": "stdout",
     "output_type": "stream",
     "text": [
      "DataFrame:\n",
      "     c    k\n",
      "0  0.5  1.1\n",
      "1  0.8  2.5\n",
      "2  1.5  5.3\n",
      "3  NaN  NaN\n",
      "4  2.5  7.6\n",
      "5  4.0  8.9\n",
      "Interploated DataFrame:\n",
      "     c     k\n",
      "0  0.5  1.10\n",
      "1  0.8  2.50\n",
      "2  1.5  5.30\n",
      "3  2.0  6.45\n",
      "4  2.5  7.60\n",
      "5  4.0  8.90\n"
     ]
    }
   ],
   "source": [
    "import pandas as pd\n",
    "\n",
    "df = pd.DataFrame({'c': [0.5, 0.8, 1.5, None, 2.5, 4],\n",
    "                   'k': [1.1, 2.5, 5.3, None, 7.6, 8.9]})\n",
    "print(\"DataFrame:\")\n",
    "print(df)\n",
    "\n",
    "filled_df = df.interpolate()\n",
    "\n",
    "print(\"Interploated DataFrame:\")\n",
    "print(filled_df)\n"
   ]
  },
  {
   "cell_type": "code",
   "execution_count": 5,
   "metadata": {},
   "outputs": [
    {
     "name": "stdout",
     "output_type": "stream",
     "text": [
      "     c     k\n",
      "0  0.5  1.10\n",
      "1  0.8  2.50\n",
      "2  1.5  5.30\n",
      "3  2.0  6.45\n",
      "4  2.5  7.60\n",
      "5  4.0  8.90\n"
     ]
    },
    {
     "data": {
      "image/png": "[encoded data removed]",
      "text/plain": [
       "<Figure size 864x720 with 1 Axes>"
      ]
     },
     "metadata": {
      "needs_background": "light"
     },
     "output_type": "display_data"
    }
   ],
   "source": [
    "import pandas as pd\n",
    "import matplotlib.pyplot as plt\n",
    "import scipy.interpolate as interpolate\n",
    "\n",
    "c = [0.5, 0.8, 1.5, 2, 2.5, 4]\n",
    "k = [1.1, 2.5, 5.3, 6.45, 7.6, 8.9]\n",
    "\n",
    "data = pd.DataFrame({'c': c, 'k': k})\n",
    "\n",
    "print(data)\n",
    "\n",
    "linear_interpolation_func = interpolate.interp1d(data.c, data.k, kind='linear')\n",
    "plt.figure(figsize=(12,10))\n",
    "plt.scatter(data.c, data.k)\n",
    "plt.plot(c, k, 'red')\n",
    "plt.legend(['Linear Interpolation', 'Original'])\n",
    "plt.xlabel('c')\n",
    "plt.ylabel('k')\n",
    "plt.show()\n"
   ]
  }
 ],
 "metadata": {
  "kernelspec": {
   "display_name": "Python 3",
   "language": "python",
   "name": "python3"
  },
  "language_info": {
   "codemirror_mode": {
    "name": "ipython",
    "version": 3
   },
   "file_extension": ".py",
   "mimetype": "text/x-python",
   "name": "python",
   "nbconvert_exporter": "python",
   "pygments_lexer": "ipython3",
   "version": "3.8.10"
  }
 },
 "nbformat": 4,
 "nbformat_minor": 4
}
