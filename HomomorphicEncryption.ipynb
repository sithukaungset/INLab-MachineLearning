{
 "cells": [
  {
   "cell_type": "code",
   "execution_count": 1,
   "metadata": {},
   "outputs": [
    {
     "data": {
      "text/plain": [
       "[157.00002129249523, -90.00001212247784, 153.00002052326667]"
      ]
     },
     "execution_count": 1,
     "metadata": {},
     "output_type": "execute_result"
    }
   ],
   "source": [
    "import tenseal as ts\n",
    "# Setup TenSEAL context   \n",
    "# TenSEAL Context is a special object that holds different encryption keys and parameters for \n",
    "# us, so that we only need to use a single object to make our encrypted computation instead\n",
    "# of managing all the keys and the HE details. Basically, we will want to create a single\n",
    "# TenSEAL context before doing our encrypted vectors of either integers(using BFV) or real \n",
    "# numbers (using CKKS)/\n",
    "context = ts.context(\n",
    "            ts.SCHEME_TYPE.CKKS,\n",
    "            poly_modulus_degree=8192,\n",
    "            coeff_mod_bit_sizes=[60,40,40, 60]\n",
    "    \n",
    ")\n",
    "\n",
    "context.generate_galois_keys()\n",
    "context.global_scale = 2**40\n",
    "\n",
    "v1 = [0,1,2,3,4]\n",
    "v2 = [4,3,2,1,0]\n",
    "\n",
    "#encrypted vectors\n",
    "enc_v1 = ts.ckks_vector(context, v1)\n",
    "enc_v2 = ts.ckks_vector(context, v2)\n",
    "\n",
    "result = enc_v1 + enc_v2\n",
    "result.decrypt() # ~ [4,4,4,4,4]\n",
    "\n",
    "result = enc_v1.dot(enc_v2)\n",
    "result.decrypt() # ~ [10]\n",
    "\n",
    "matrix = [\n",
    "       [73, 0.5, 8],\n",
    "        [81, -5, 66],\n",
    "        [-100, -78, -2],\n",
    "        [0, 9, 17],\n",
    "        [69, 11, 10],   \n",
    "]\n",
    "result = enc_v1.matmul(matrix)\n",
    "result.decrypt() # ~ [157, -90, 153]\n"
   ]
  },
  {
   "cell_type": "code",
   "execution_count": 2,
   "metadata": {},
   "outputs": [
    {
     "data": {
      "text/plain": [
       "<tenseal.enc_context.Context at 0x7f4e7117aa60>"
      ]
     },
     "execution_count": 2,
     "metadata": {},
     "output_type": "execute_result"
    }
   ],
   "source": [
    "import tenseal as ts\n",
    "\n",
    "context = ts.context(ts.SCHEME_TYPE.BFV, poly_modulus_degree= 4096, plain_modulus= 1032193)\n",
    "context\n",
    "\n"
   ]
  },
  {
   "cell_type": "code",
   "execution_count": 3,
   "metadata": {},
   "outputs": [
    {
     "name": "stdout",
     "output_type": "stream",
     "text": [
      "Is the context private? Yes\n",
      "Is the context public? No\n",
      "Secret-key dropped\n",
      "Is the context private? No\n",
      "Is the context public? Yes\n"
     ]
    }
   ],
   "source": [
    "public_context = ts.context(ts.SCHEME_TYPE.BFV, poly_modulus_degree=4096, plain_modulus=1032193)\n",
    "print(\"Is the context private?\", (\"Yes\" if public_context.is_private() else \"No\"))\n",
    "print(\"Is the context public?\", (\"Yes\" if public_context.is_public() else \"No\"))\n",
    "\n",
    "sk = public_context.secret_key()\n",
    "\n",
    "# the context will drop the secret_key at this point\n",
    "public_context.make_context_public() \n",
    "print(\"Secret-key dropped\")\n",
    "print(\"Is the context private?\", (\"Yes\" if public_context.is_private() else \"No\"))\n",
    "print(\"Is the context public?\", (\"Yes\" if public_context.is_public() else \"No\"))\n",
    "\n",
    "\n"
   ]
  },
  {
   "cell_type": "code",
   "execution_count": 4,
   "metadata": {},
   "outputs": [
    {
     "name": "stdout",
     "output_type": "stream",
     "text": [
      "We just encrypted our plaintext vector of size :  5\n"
     ]
    },
    {
     "data": {
      "text/plain": [
       "<tenseal.tensors.bfvvector.BFVVector at 0x7f4e7117a2e0>"
      ]
     },
     "execution_count": 4,
     "metadata": {},
     "output_type": "execute_result"
    }
   ],
   "source": [
    "plain_vector = [60, 66, 73, 81, 90]\n",
    "encrypted_vector = ts.bfv_vector(context, plain_vector)\n",
    "print(\"We just encrypted our plaintext vector of size : \", encrypted_vector.size())\n",
    "encrypted_vector"
   ]
  },
  {
   "cell_type": "code",
   "execution_count": 5,
   "metadata": {},
   "outputs": [
    {
     "name": "stdout",
     "output_type": "stream",
     "text": [
      "[61, 68, 76, 85, 95]\n"
     ]
    }
   ],
   "source": [
    "# Here we encrypted a vector of integers into a BFVVector, a vector type that uses the BFV\n",
    "# scheme. Now we can do both addition, substraction and multiplication in an element-wise\n",
    "# fashion with other encrypted or plain vectors\n",
    "add_result = encrypted_vector + [1,2,3,4,5]\n",
    "print(add_result.decrypt())\n"
   ]
  },
  {
   "cell_type": "code",
   "execution_count": null,
   "metadata": {},
   "outputs": [],
   "source": []
  },
  {
   "cell_type": "code",
   "execution_count": 9,
   "metadata": {},
   "outputs": [
    {
     "name": "stdout",
     "output_type": "stream",
     "text": [
      "[59, 64, 70, 77, 85]\n"
     ]
    }
   ],
   "source": [
    "sub_result = encrypted_vector - [1,2,3,4,5]\n",
    "print(sub_result.decrypt())"
   ]
  },
  {
   "cell_type": "code",
   "execution_count": 8,
   "metadata": {},
   "outputs": [
    {
     "name": "stdout",
     "output_type": "stream",
     "text": [
      "[60, 132, 219, 324, 450]\n"
     ]
    }
   ],
   "source": [
    "mul_result = encrypted_vector * [1,2,3,4,5]\n",
    "print(mul_result.decrypt())"
   ]
  },
  {
   "cell_type": "code",
   "execution_count": 10,
   "metadata": {},
   "outputs": [
    {
     "name": "stdout",
     "output_type": "stream",
     "text": [
      "[120, 132, 146, 162, 180]\n"
     ]
    }
   ],
   "source": [
    "encrypted_add = add_result + sub_result\n",
    "print(encrypted_add.decrypt())"
   ]
  },
  {
   "cell_type": "code",
   "execution_count": 11,
   "metadata": {},
   "outputs": [
    {
     "name": "stdout",
     "output_type": "stream",
     "text": [
      "[60, 66, 73, 81, 90]\n"
     ]
    }
   ],
   "source": [
    "encrypted_sub = encrypted_add - encrypted_vector\n",
    "print(encrypted_sub.decrypt())"
   ]
  },
  {
   "cell_type": "code",
   "execution_count": 12,
   "metadata": {},
   "outputs": [
    {
     "name": "stdout",
     "output_type": "stream",
     "text": [
      "[7200, 8712, 10658, 13122, 16200]\n"
     ]
    }
   ],
   "source": [
    "encrypted_mul = encrypted_add * encrypted_sub\n",
    "print(encrypted_mul.decrypt())"
   ]
  },
  {
   "cell_type": "code",
   "execution_count": 13,
   "metadata": {},
   "outputs": [
    {
     "name": "stdout",
     "output_type": "stream",
     "text": [
      "c2c multiply time: 3.6003589630126953 ms\n",
      "c2p multiply time: 0.5462169647216797 ms\n"
     ]
    }
   ],
   "source": [
    "from time import time \n",
    "\n",
    "t_start = time()\n",
    "_ = encrypted_add * encrypted_mul\n",
    "t_end = time()\n",
    "print(\"c2c multiply time: {} ms\".format((t_end - t_start) * 1000))\n",
    "\n",
    "t_start = time()\n",
    "_ = encrypted_add * [1,2,3,4,5]\n",
    "t_end = time()\n",
    "print(\"c2p multiply time: {} ms\".format((t_end - t_start) * 1000))"
   ]
  },
  {
   "cell_type": "code",
   "execution_count": 15,
   "metadata": {},
   "outputs": [
    {
     "name": "stdout",
     "output_type": "stream",
     "text": [
      "Automatic relinearization is: on\n",
      "Automatic rescaling is: off\n",
      "Automatic modulus switching is: off\n"
     ]
    }
   ],
   "source": [
    "print(\"Automatic relinearization is:\", (\"on\" if context.auto_relin else \"off\"))\n",
    "print(\"Automatic rescaling is:\", (\"on\" if context.auto_rescale else \"off\"))\n",
    "print(\"Automatic modulus switching is:\", (\"on\" if context.auto_mod_switch else \"off\"))"
   ]
  },
  {
   "cell_type": "code",
   "execution_count": 16,
   "metadata": {},
   "outputs": [
    {
     "name": "stdout",
     "output_type": "stream",
     "text": [
      "The global_scale isn't defined yet\n",
      "global_scale: 1048576.0\n"
     ]
    }
   ],
   "source": [
    "# this should throw an error as the global_scale isn't defined yet\n",
    "try:\n",
    "    print(\"global_scale:\", context.global_scale)\n",
    "except ValueError:\n",
    "    print(\"The global_scale isn't defined yet\")\n",
    "# you can define it to 2 ** 20 for instance\n",
    "context.global_scale = 2 ** 20\n",
    "print(\"global_scale:\", context.global_scale)"
   ]
  }
 ],
 "metadata": {
  "kernelspec": {
   "display_name": "Python 3",
   "language": "python",
   "name": "python3"
  },
  "language_info": {
   "codemirror_mode": {
    "name": "ipython",
    "version": 3
   },
   "file_extension": ".py",
   "mimetype": "text/x-python",
   "name": "python",
   "nbconvert_exporter": "python",
   "pygments_lexer": "ipython3",
   "version": "3.8.10"
  }
 },
 "nbformat": 4,
 "nbformat_minor": 4
}
