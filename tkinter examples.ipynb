{
 "cells": [
  {
   "cell_type": "code",
   "execution_count": null,
   "metadata": {},
   "outputs": [
    {
     "name": "stderr",
     "output_type": "stream",
     "text": [
      "Exception in Tkinter callback\n",
      "Traceback (most recent call last):\n",
      "  File \"/usr/lib/python3.8/tkinter/__init__.py\", line 1892, in __call__\n",
      "    return self.func(*args)\n",
      "  File \"<ipython-input-6-4d24dbc2a81c>\", line 11, in dateTime\n",
      "    now = datetime.now()\n",
      "AttributeError: module 'datetime' has no attribute 'now'\n",
      "Exception in Tkinter callback\n",
      "Traceback (most recent call last):\n",
      "  File \"/usr/lib/python3.8/tkinter/__init__.py\", line 1892, in __call__\n",
      "    return self.func(*args)\n",
      "  File \"<ipython-input-6-4d24dbc2a81c>\", line 11, in dateTime\n",
      "    now = datetime.now()\n",
      "AttributeError: module 'datetime' has no attribute 'now'\n"
     ]
    }
   ],
   "source": [
    "import tkinter\n",
    "import datetime\n",
    "window = tkinter.Tk()\n",
    "window.title(\"test window\")\n",
    "window.geometry(\"500x400+100+100\")\n",
    "window.resizable(False,False)\n",
    "label = tkinter.Label(window, text =\"Wookseok Jang - 20182071\", height=7)\n",
    "label.pack(side=\"top\",fill=\"x\")\n",
    "\n",
    "def dateTime():\n",
    "    now = datetime.now()\n",
    "    \n",
    "    dateLabel.config(text=\"[date]\" + now.strftime(\"%Y-%m-%d\"))\n",
    "    \n",
    "    timeLabel.config(text=\"[time]\" + now.strftime(\"%H-%M-%S\"))\n",
    "    \n",
    "button = tkinter.Button(window, text=\"date/time\",overrelief=\"solid\",command=dateTime,repeatdelay=1000,repeatinterval=500)\n",
    "\n",
    "button.pack(fill=\"x\")\n",
    "dateLabel = tkinter.Label(window,text=\"[date]\")\n",
    "\n",
    "dateLabel.pack()\n",
    "\n",
    "timeLabel = tkinter.Label(window,text=[\"time\"])\n",
    "\n",
    "timeLabel.pack()\n",
    "\n",
    "window.mainloop()"
   ]
  },
  {
   "cell_type": "code",
   "execution_count": 2,
   "metadata": {},
   "outputs": [
    {
     "ename": "ModuleNotFoundError",
     "evalue": "No module named 'func'",
     "output_type": "error",
     "traceback": [
      "\u001b[0;31m---------------------------------------------------------------------------\u001b[0m",
      "\u001b[0;31mModuleNotFoundError\u001b[0m                       Traceback (most recent call last)",
      "\u001b[0;32m<ipython-input-2-9fe44214e5bc>\u001b[0m in \u001b[0;36m<module>\u001b[0;34m\u001b[0m\n\u001b[0;32m----> 1\u001b[0;31m \u001b[0;32mimport\u001b[0m \u001b[0mfunc\u001b[0m\u001b[0;34m\u001b[0m\u001b[0;34m\u001b[0m\u001b[0m\n\u001b[0m\u001b[1;32m      2\u001b[0m \u001b[0mN\u001b[0m \u001b[0;34m=\u001b[0m \u001b[0mint\u001b[0m\u001b[0;34m(\u001b[0m\u001b[0minput\u001b[0m\u001b[0;34m(\u001b[0m\u001b[0;34m)\u001b[0m\u001b[0;34m)\u001b[0m\u001b[0;34m\u001b[0m\u001b[0;34m\u001b[0m\u001b[0m\n\u001b[1;32m      3\u001b[0m \u001b[0mfunc\u001b[0m\u001b[0;34m.\u001b[0m\u001b[0minlab\u001b[0m\u001b[0;34m(\u001b[0m\u001b[0;36m2\u001b[0m\u001b[0;34m*\u001b[0m\u001b[0mN\u001b[0m\u001b[0;34m)\u001b[0m\u001b[0;34m\u001b[0m\u001b[0;34m\u001b[0m\u001b[0m\n",
      "\u001b[0;31mModuleNotFoundError\u001b[0m: No module named 'func'"
     ]
    }
   ],
   "source": []
  }
 ],
 "metadata": {
  "kernelspec": {
   "display_name": "Python 3",
   "language": "python",
   "name": "python3"
  },
  "language_info": {
   "codemirror_mode": {
    "name": "ipython",
    "version": 3
   },
   "file_extension": ".py",
   "mimetype": "text/x-python",
   "name": "python",
   "nbconvert_exporter": "python",
   "pygments_lexer": "ipython3",
   "version": "3.8.10"
  }
 },
 "nbformat": 4,
 "nbformat_minor": 4
}
