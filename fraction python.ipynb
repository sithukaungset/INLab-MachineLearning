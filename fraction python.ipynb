{
 "cells": [
  {
   "cell_type": "code",
   "execution_count": 24,
   "metadata": {},
   "outputs": [
    {
     "name": "stdout",
     "output_type": "stream",
     "text": [
      "2\n",
      "1 / 2\n"
     ]
    }
   ],
   "source": [
    "n = int(input())\n",
    "temp = n\n",
    "line = 1\n",
    "temp = temp - line\n",
    "while (temp > 0):\n",
    "    line = line + 1\n",
    "    temp = temp - line\n",
    "location = int(n -((line-1)*(line)/2))\n",
    "if line % 2 == 0:\n",
    "    denominator = line - location + 1\n",
    "    numerator = location\n",
    "else:\n",
    "    denominator = location\n",
    "    numerator = line - location + 1\n",
    "print(numerator, \"/\", denominator)"
   ]
  }
 ],
 "metadata": {
  "kernelspec": {
   "display_name": "Python 3",
   "language": "python",
   "name": "python3"
  }
 },
 "nbformat": 4,
 "nbformat_minor": 4
}
