{
 "cells": [
  {
   "cell_type": "code",
   "execution_count": 12,
   "metadata": {},
   "outputs": [
    {
     "name": "stdout",
     "output_type": "stream",
     "text": [
      "User 함수: \n",
      " [3.67000e+02 2.00000e+01 9.10000e+02 1.52200e+03 3.41800e+03 2.89800e+03\n",
      " 2.63900e+03 3.26900e+03 2.89900e+03 2.61900e+03 3.28000e+03 3.35600e+03\n",
      " 4.46700e+03 4.03300e+03 4.26600e+03 3.61900e+03 3.44000e+03 2.87600e+03\n",
      " 2.50100e+03 1.66800e+03 1.92800e+03 2.32700e+03 2.52400e+03 3.06800e+03\n",
      " 3.87500e+03 5.77400e+03 1.01330e+04 1.10430e+04 2.20600e+03 2.23600e+03\n",
      " 4.76800e+03 1.58195e+05]\n",
      "OpenCV 함수: \n",
      " [3.67000e+02 2.00000e+01 9.10000e+02 1.52200e+03 3.41800e+03 2.89800e+03\n",
      " 2.63900e+03 3.26900e+03 2.89900e+03 2.61900e+03 3.28000e+03 3.35600e+03\n",
      " 4.46700e+03 4.03300e+03 4.26600e+03 3.61900e+03 3.44000e+03 2.87600e+03\n",
      " 2.50100e+03 1.66800e+03 1.92800e+03 2.32700e+03 2.52400e+03 3.06800e+03\n",
      " 3.87500e+03 5.77400e+03 1.01330e+04 1.10430e+04 2.20600e+03 2.23600e+03\n",
      " 4.76800e+03 1.58195e+05]\n",
      "numpy 함수: \n",
      " [   367     20    910   1522   3418   2898   2639   3269   2899   2619\n",
      "   3280   3356   4467   4033   4266   3619   3440   2876   2501   1668\n",
      "   1928   2327   2524   3068   3875   5774  10133  11043   2206   2236\n",
      "   4768 158195]\n"
     ]
    }
   ],
   "source": [
    "import numpy as np, cv2\n",
    "\n",
    "def calc_histo(image, histSize= [32], ranges=[0, 256]):\n",
    "    hist = np.zeros((histSize[0], 1), np.float32)\n",
    "    gap = ranges[1] / histSize[0]\n",
    "\n",
    "    for row in image:\n",
    "        for pix in row:\n",
    "            idx = int(pix/gap)\n",
    "            hist[idx] += 1\n",
    "    return hist\n",
    "\n",
    "image = cv2.imread(\"/home/inlab/Downloads/minions.png\", cv2.IMREAD_GRAYSCALE)\n",
    "if image is None: raise Exception(\"영상파일 읽기 오류\")\n",
    "\n",
    "histSize, ranges = [32], [0, 256]\n",
    "gap = ranges[1]/histSize[0]\n",
    "ranges_gap = np.arange(0, ranges[1]+1, gap)\n",
    "hist1 = calc_histo(image, histSize, ranges)\n",
    "hist2 = cv2.calcHist([image], [0], None, histSize, ranges)\n",
    "hist3, bins = np.histogram(image, ranges_gap)\n",
    "\n",
    "print(\"User 함수: \\n\", hist1.flatten())\n",
    "print(\"OpenCV 함수: \\n\", hist2.flatten())\n",
    "print(\"numpy 함수: \\n\", hist3)\n"
   ]
  },
  {
   "cell_type": "code",
   "execution_count": null,
   "metadata": {},
   "outputs": [],
   "source": [
    "import numpy as np, cv2\n",
    "\n",
    "def draw_histo(hist, shape=(200, 256)):\n",
    "    hist_img = np.full(shape, 255, np.uint8)\n",
    "    cv2.normalize(hist, hist, 0, shape[0], cv2.NORM_MINMAX)\n",
    "    gap = hist_img.shape[1]/hist.shape[0]\n",
    "\n",
    "    for i, h in enumerate(hist):\n",
    "        x = int(round(i * gap))\n",
    "        w = int(round(gap))\n",
    "        cv2.rectangle(hist_img, (x, 0, w, int(h)), 0, cv2.FILLED)\n",
    "\n",
    "    return cv2.flip(hist_img, 0)\n",
    "image = cv2.imread(\"/home/inlab/Downloads/minions.png\", cv2.IMREAD_GRAYSCALE)\n",
    "if image is None: raise Exception(\"영상파일 읽기 오류\")\n",
    "\n",
    "hist = cv2.calcHist([image], [0], None, [32], [0, 256])\n",
    "hist_img = draw_histo(hist)\n",
    "\n",
    "cv2.imshow(\"image\", image)\n",
    "cv2.imshow(\"hist_img\", hist_img)\n",
    "cv2.waitKey(0)"
   ]
  }
 ],
 "metadata": {
  "kernelspec": {
   "display_name": "Python 3",
   "language": "python",
   "name": "python3"
  },
  "language_info": {
   "codemirror_mode": {
    "name": "ipython",
    "version": 3
   },
   "file_extension": ".py",
   "mimetype": "text/x-python",
   "name": "python",
   "nbconvert_exporter": "python",
   "pygments_lexer": "ipython3",
   "version": "3.8.10"
  }
 },
 "nbformat": 4,
 "nbformat_minor": 4
}
